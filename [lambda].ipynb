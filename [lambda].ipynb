{
 "cells": [
  {
   "cell_type": "code",
   "execution_count": 181,
   "metadata": {},
   "outputs": [],
   "source": [
    "import sage.libs.lrcalc.lrcalc as lrcalc\n",
    "import numpy as np\n",
    "import functools"
   ]
  },
  {
   "cell_type": "code",
   "execution_count": 190,
   "metadata": {},
   "outputs": [],
   "source": [
    "def lamsComp(lams,a,b):\n",
    "    \n",
    "    #     :param lams: an array of partitions\n",
    "    #     :param    a: number of rows\n",
    "    #     :param    b: number of columns\n",
    "    #     :return    : complement of lams under rectangle a*b\n",
    "\n",
    "    result = []\n",
    "    \n",
    "    for lam in lams:\n",
    "        comp = []\n",
    "        for i in range(a):\n",
    "            if i >= len(lam):\n",
    "                comp = [b]*(a-i) + comp\n",
    "                break\n",
    "            if (b-lam[i]) == 0: continue\n",
    "            comp.insert(0,b-lam[i])\n",
    "            \n",
    "        result.append(comp)\n",
    "    \n",
    "    return result"
   ]
  },
  {
   "cell_type": "code",
   "execution_count": 182,
   "metadata": {},
   "outputs": [],
   "source": [
    "def NL(l,mu):\n",
    "    n_l = sum(l)\n",
    "    n_mu = sum(mu)\n",
    "    \n",
    "    listAlphaBeta = []\n",
    "\n",
    "    for i in range(0,n_l+1):\n",
    "        for a in Partitions(i).list():\n",
    "            for b in Partitions(n_l-i).list():\n",
    "                if lrcalc.lrcoef(l, a, b) != 0:\n",
    "                    listAlphaBeta.append([a,b])\n",
    "    listabg = []\n",
    "    for i,ab in enumerate(listAlphaBeta):\n",
    "        n_beta = sum(ab[1])\n",
    "        b = ab[1]\n",
    "        for g in Partitions(n_mu - n_beta).list():\n",
    "            if lrcalc.lrcoef(mu,b,g) != 0:\n",
    "                listabg.append(ab+[g])\n",
    "#     nu = []\n",
    "    nuDict = {}\n",
    "    for abg in listabg:\n",
    "        a = abg[0]\n",
    "        g = abg[2]\n",
    "        n_a = sum(a)\n",
    "        n_g = sum(g)\n",
    "        for v in Partitions(n_a+n_g).list():\n",
    "            if lrcalc.lrcoef(v, a, g) != 0:\n",
    "#                 if v not in nu:\n",
    "#                     nu.append(v)\n",
    "                v = Partition(v)\n",
    "                if v not in nuDict:\n",
    "                    nuDict[v] = [abg]\n",
    "                else:\n",
    "                    nuDict[v].append(abg)\n",
    "    for v in nuDict:\n",
    "        currentNL = 0\n",
    "        for abg in nuDict[v]:\n",
    "            a = abg[0]\n",
    "            b = abg[1]\n",
    "            g = abg[2]\n",
    "#             print(v, a, b, g)\n",
    "            currentNL += lrcalc.lrcoef(l,a,b) * lrcalc.lrcoef(mu,b,g) * lrcalc.lrcoef(v,g,a)\n",
    "        nuDict[v] = currentNL\n",
    "        \n",
    "    return nuDict"
   ]
  },
  {
   "cell_type": "code",
   "execution_count": 186,
   "metadata": {},
   "outputs": [],
   "source": [
    "def lexOrder(l1,l2):\n",
    "    # if l1 < l2, return negative\n",
    "    \n",
    "    n_l1 = len(l1)\n",
    "    n_l2 = len(l2)\n",
    "    \n",
    "    if n_l1 < n_l2:\n",
    "        l1 = l1 + ([0]*(n_l2-n_l1))\n",
    "    if n_l2 < n_l1:\n",
    "        l2 = l2 + ([0]*(n_l1-n_l2))\n",
    "    \n",
    "    for i,e in enumerate(l1):\n",
    "        if e == l2[i]:\n",
    "            continue\n",
    "        if e < l2[i]:\n",
    "            return -1\n",
    "        if e > l2[i]:\n",
    "            return 1\n",
    "    return 0"
   ]
  },
  {
   "cell_type": "code",
   "execution_count": 192,
   "metadata": {},
   "outputs": [
    {
     "data": {
      "text/plain": [
       "[[], [1], [1, 1], [1, 1, 1], [2], [2, 1], [2, 1, 1], [2, 2], [3], [3, 1]]"
      ]
     },
     "execution_count": 192,
     "metadata": {},
     "output_type": "execute_result"
    }
   ],
   "source": [
    "lams3"
   ]
  },
  {
   "cell_type": "code",
   "execution_count": 188,
   "metadata": {},
   "outputs": [],
   "source": [
    "lams3.sort(key=functools.cmp_to_key(lexOrder))"
   ]
  },
  {
   "cell_type": "code",
   "execution_count": 191,
   "metadata": {},
   "outputs": [
    {
     "data": {
      "text/plain": [
       "[[3, 3, 3],\n",
       " [3, 3, 2],\n",
       " [3, 3, 1],\n",
       " [3, 2, 2],\n",
       " [3, 3],\n",
       " [3, 2, 1],\n",
       " [2, 2, 2],\n",
       " [3, 2],\n",
       " [3, 1, 1],\n",
       " [2, 2, 1]]"
      ]
     },
     "execution_count": 191,
     "metadata": {},
     "output_type": "execute_result"
    }
   ],
   "source": [
    "lams3C"
   ]
  },
  {
   "cell_type": "code",
   "execution_count": 155,
   "metadata": {},
   "outputs": [],
   "source": [
    "lams2 = [[], [1], [2], [1, 1]]\n",
    "lams2C = [[2, 2], [2, 1], [2], [1, 1]]"
   ]
  },
  {
   "cell_type": "code",
   "execution_count": 149,
   "metadata": {},
   "outputs": [],
   "source": [
    "lams4 = [[], [1], [2], [1, 1], [3], [2, 1], [1, 1, 1], [4], [3, 1], [2, 2], [2, 1, 1], [1, 1, 1, 1], [4, 1], [3, 2], [3, 1, 1], [2, 2, 1], [2, 1, 1, 1], [4, 2], [4, 1, 1], [3, 3], [3, 2, 1], [3, 1, 1, 1], [2, 2, 2], [2, 2, 1, 1], [4, 3], [4, 2, 1], [4, 1, 1, 1], [3, 3, 1], [3, 2, 2], [3, 2, 1, 1], [2, 2, 2, 1], [4, 4], [4, 3, 1], [4, 2, 2], [4, 2, 1, 1], [3, 3, 1, 1], [3, 2, 2, 1], [2, 2, 2, 2]]\n",
    "lams4C = [[4, 4, 4, 4], [4, 4, 4, 3], [4, 4, 4, 2], [4, 4, 3, 3], [4, 4, 4, 1], [4, 4, 3, 2], [4, 3, 3, 3], [4, 4, 4], [4, 4, 3, 1], [4, 4, 2, 2], [4, 3, 3, 2], [3, 3, 3, 3], [4, 4, 3], [4, 4, 2, 1], [4, 3, 3, 1], [4, 3, 2, 2], [3, 3, 3, 2], [4, 4, 2], [4, 3, 3], [4, 4, 1, 1], [4, 3, 2, 1], [3, 3, 3, 1], [4, 2, 2, 2], [3, 3, 2, 2], [4, 4, 1], [4, 3, 2], [3, 3, 3], [4, 3, 1, 1], [4, 2, 2, 1], [3, 3, 2, 1], [3, 2, 2, 2], [4, 4], [4, 3, 1], [4, 2, 2], [3, 3, 2], [3, 3, 1, 1], [3, 2, 2, 1], [2, 2, 2, 2]]"
   ]
  },
  {
   "cell_type": "code",
   "execution_count": 166,
   "metadata": {},
   "outputs": [
    {
     "name": "stdout",
     "output_type": "stream",
     "text": [
      "===\n",
      "[[1 0 0 ... 0 0 0]\n",
      " [1 1 1 ... 0 0 0]\n",
      " [1 2 1 ... 0 0 0]\n",
      " ...\n",
      " [1 4 4 ... 1 0 0]\n",
      " [1 7 7 ... 0 1 0]\n",
      " [1 1 1 ... 0 0 1]]\n"
     ]
    }
   ],
   "source": [
    "lams = lams4\n",
    "lamsC = lams4C\n",
    "indList = []\n",
    "vectors = []\n",
    "markNew = []\n",
    "\n",
    "for i,l in enumerate(lams):\n",
    "    lC = lamsC[i]\n",
    "    current = NL(l,lC)\n",
    "    if i == 0:\n",
    "        indList = [v for v in current]\n",
    "        currentV = [0]*1000\n",
    "        for v in current:\n",
    "            currentV[indList.index(v)] = current[v]\n",
    "        vectors.append(currentV)\n",
    "    else:\n",
    "        currentV = [0]*1000\n",
    "        for v in current:\n",
    "            if v not in indList:\n",
    "                markNew.append(Partition(l))\n",
    "                indList.append(v)\n",
    "            currentV[indList.index(v)] = current[v]\n",
    "        vectors.append(currentV)\n",
    "\n",
    "\n",
    "maxInd = np.max(np.nonzero(vectors[-1]))\n",
    "vectors = np.array(vectors)\n",
    "vectors = vectors[:,0:int(maxInd)+1]\n",
    "\n",
    "print(\"===\")\n",
    "vectors = [list(v) for v in vectors]\n",
    "print(np.array(vectors))"
   ]
  },
  {
   "cell_type": "code",
   "execution_count": 169,
   "metadata": {},
   "outputs": [
    {
     "data": {
      "text/plain": [
       "{[], [4, 1, 1, 1], [4, 2, 1, 1]}"
      ]
     },
     "execution_count": 169,
     "metadata": {},
     "output_type": "execute_result"
    }
   ],
   "source": [
    "set([Partition(l) for l in lams]) - set(markNew)"
   ]
  },
  {
   "cell_type": "code",
   "execution_count": 159,
   "metadata": {},
   "outputs": [
    {
     "name": "stdout",
     "output_type": "stream",
     "text": [
      "True\n"
     ]
    }
   ],
   "source": [
    "A = span(vectors,ZZ)\n",
    "print(A.dimension() == len(vectors))"
   ]
  },
  {
   "cell_type": "code",
   "execution_count": 161,
   "metadata": {},
   "outputs": [
    {
     "data": {
      "text/plain": [
       "[[], [1], [2], [1, 1], [3], [2, 1], [1, 1, 1], [3, 1], [2, 2], [2, 1, 1]]"
      ]
     },
     "execution_count": 161,
     "metadata": {},
     "output_type": "execute_result"
    }
   ],
   "source": [
    "lams3"
   ]
  },
  {
   "cell_type": "code",
   "execution_count": 15,
   "metadata": {},
   "outputs": [
    {
     "data": {
      "text/plain": [
       "1"
      ]
     },
     "execution_count": 15,
     "metadata": {},
     "output_type": "execute_result"
    }
   ],
   "source": [
    "lrcalc.lrcoef([5,4,3,3,2,2,1],[5,4,3,3],[2,2,1])"
   ]
  },
  {
   "cell_type": "code",
   "execution_count": null,
   "metadata": {},
   "outputs": [],
   "source": []
  },
  {
   "cell_type": "code",
   "execution_count": 106,
   "metadata": {},
   "outputs": [],
   "source": [
    "l = [2]\n",
    "lC = [2]\n",
    "n_l = sum(l)\n",
    "n_lC = sum(lC)\n"
   ]
  },
  {
   "cell_type": "code",
   "execution_count": 107,
   "metadata": {},
   "outputs": [],
   "source": [
    "listAlphaBeta = []\n",
    "\n",
    "for i in range(0,n_l+1):\n",
    "    for a in Partitions(i).list():\n",
    "        for b in Partitions(n_l-i).list():\n",
    "            if lrcalc.lrcoef(l, a, b) != 0:\n",
    "                listAlphaBeta.append([a,b])"
   ]
  },
  {
   "cell_type": "code",
   "execution_count": 108,
   "metadata": {},
   "outputs": [
    {
     "data": {
      "text/plain": [
       "[[[], [2]], [[1], [1]], [[2], []]]"
      ]
     },
     "execution_count": 108,
     "metadata": {},
     "output_type": "execute_result"
    }
   ],
   "source": [
    "listAlphaBeta"
   ]
  },
  {
   "cell_type": "code",
   "execution_count": 109,
   "metadata": {},
   "outputs": [],
   "source": [
    "listabg = []\n",
    "for i,ab in enumerate(listAlphaBeta):\n",
    "    n_beta = sum(ab[1])\n",
    "    b = ab[1]\n",
    "    for g in Partitions(n_lC - n_beta).list():\n",
    "        if lrcalc.lrcoef(lC,b,g) != 0:\n",
    "            listabg.append(ab+[g])"
   ]
  },
  {
   "cell_type": "code",
   "execution_count": 110,
   "metadata": {},
   "outputs": [
    {
     "data": {
      "text/plain": [
       "[[[], [2], []], [[1], [1], [1]], [[2], [], [2]]]"
      ]
     },
     "execution_count": 110,
     "metadata": {},
     "output_type": "execute_result"
    }
   ],
   "source": [
    "listabg"
   ]
  },
  {
   "cell_type": "code",
   "execution_count": 111,
   "metadata": {},
   "outputs": [],
   "source": [
    "nu = []\n",
    "for abg in listabg:\n",
    "    a = abg[0]\n",
    "    g = abg[2]\n",
    "    n_a = sum(a)\n",
    "    n_g = sum(g)\n",
    "    for v in Partitions(n_a+n_g).list():\n",
    "        if lrcalc.lrcoef(v, a, g) != 0:\n",
    "            if v not in nu:\n",
    "                nu.append(abg+[v])"
   ]
  },
  {
   "cell_type": "code",
   "execution_count": 112,
   "metadata": {},
   "outputs": [
    {
     "data": {
      "text/plain": [
       "[[[], [2], [], []],\n",
       " [[1], [1], [1], [2]],\n",
       " [[1], [1], [1], [1, 1]],\n",
       " [[2], [], [2], [4]],\n",
       " [[2], [], [2], [3, 1]],\n",
       " [[2], [], [2], [2, 2]]]"
      ]
     },
     "execution_count": 112,
     "metadata": {},
     "output_type": "execute_result"
    }
   ],
   "source": [
    "nu"
   ]
  },
  {
   "cell_type": "code",
   "execution_count": 90,
   "metadata": {},
   "outputs": [
    {
     "name": "stdout",
     "output_type": "stream",
     "text": [
      "[[], [2], [1, 1], [4], [3, 1], [2, 2]] \n",
      " [[], [2], [1, 1], [2, 2], [2, 1, 1], [1, 1, 1, 1]] \n",
      " [[2], [1, 1], [3, 1], [2, 2], [2, 1, 1]] \n",
      " [[2, 2]]\n"
     ]
    }
   ],
   "source": [
    "print(NL([2],[2]), \"\\n\", NL([1,1],[1,1]), \"\\n\", NL([2,1],[1]), \"\\n\", NL([2,2],[]))"
   ]
  },
  {
   "cell_type": "code",
   "execution_count": 78,
   "metadata": {},
   "outputs": [
    {
     "data": {
      "text/plain": [
       "[[], [2], [1, 1], [4], [3, 1], [2, 2]]"
      ]
     },
     "execution_count": 78,
     "metadata": {},
     "output_type": "execute_result"
    }
   ],
   "source": [
    "nu"
   ]
  },
  {
   "cell_type": "code",
   "execution_count": 113,
   "metadata": {},
   "outputs": [],
   "source": [
    "lams3 = [[], [1], [2], [1, 1], [3], [2, 1], [1, 1, 1], [3, 1], [2, 2], [2, 1, 1]]\n",
    "lams3C = [[3, 3, 3], [3, 3, 2], [3, 3, 1], [3, 2, 2], [3, 3], [3, 2, 1], [2, 2, 2], [3, 2], [3, 1, 1], [2, 2, 1]]"
   ]
  },
  {
   "cell_type": "code",
   "execution_count": 114,
   "metadata": {},
   "outputs": [
    {
     "name": "stdout",
     "output_type": "stream",
     "text": [
      "[[3, 3, 3]]\n",
      "[[3, 3, 1], [3, 2, 2], [4, 3, 2], [3, 3, 3], [3, 3, 2, 1]]\n",
      "[[3, 2], [3, 1, 1], [4, 3], [3, 3, 1], [4, 2, 1], [3, 2, 2], [3, 2, 1, 1], [5, 3, 1], [4, 3, 2], [4, 3, 1, 1], [3, 3, 3], [3, 3, 2, 1]]\n",
      "[[3, 1, 1], [2, 2, 1], [4, 2, 1], [3, 3, 1], [3, 2, 2], [3, 2, 1, 1], [2, 2, 2, 1], [4, 3, 2], [4, 2, 2, 1], [3, 3, 3], [3, 3, 2, 1], [3, 2, 2, 1, 1]]\n",
      "[[3], [4, 1], [3, 2], [3, 1, 1], [5, 2], [4, 3], [4, 2, 1], [3, 3, 1], [3, 2, 2], [6, 3], [5, 3, 1], [4, 3, 2], [3, 3, 3]]\n",
      "[[3], [2, 1], [1, 1, 1], [4, 1], [3, 2], [3, 1, 1], [2, 2, 1], [2, 1, 1, 1], [5, 2], [4, 3], [4, 2, 1], [3, 3, 1], [3, 2, 2], [5, 1, 1], [4, 1, 1, 1], [3, 2, 1, 1], [2, 2, 2, 1], [3, 1, 1, 1, 1], [2, 2, 1, 1, 1], [5, 3, 1], [5, 2, 2], [5, 2, 1, 1], [4, 4, 1], [4, 3, 2], [4, 3, 1, 1], [4, 2, 2, 1], [4, 2, 1, 1, 1], [3, 3, 3], [3, 3, 2, 1], [3, 3, 1, 1, 1], [3, 2, 2, 2], [3, 2, 2, 1, 1]]\n",
      "[[1, 1, 1], [3, 1, 1], [2, 2, 1], [2, 1, 1, 1], [3, 3, 1], [3, 2, 2], [3, 2, 1, 1], [2, 2, 2, 1], [2, 2, 1, 1, 1], [3, 3, 3], [3, 3, 2, 1], [3, 2, 2, 1, 1], [2, 2, 2, 1, 1, 1]]\n",
      "[[1], [3], [2, 1], [1, 1, 1], [5], [4, 1], [3, 2], [3, 1, 1], [2, 2, 1], [2, 1, 1, 1], [6, 1], [5, 2], [5, 1, 1], [4, 3], [4, 2, 1], [3, 3, 1], [3, 2, 2], [4, 1, 1, 1], [3, 2, 1, 1], [2, 2, 2, 1], [6, 3], [6, 2, 1], [5, 4], [5, 3, 1], [5, 2, 2], [5, 2, 1, 1], [4, 4, 1], [4, 3, 2], [4, 3, 1, 1], [4, 2, 2, 1], [3, 3, 3], [3, 3, 2, 1]]\n",
      "[[3], [2, 1], [1, 1, 1], [4, 1], [3, 2], [3, 1, 1], [2, 2, 1], [2, 1, 1, 1], [5, 2], [5, 1, 1], [4, 3], [4, 2, 1], [4, 1, 1, 1], [3, 3, 1], [3, 2, 2], [3, 2, 1, 1], [3, 1, 1, 1, 1], [2, 2, 2, 1], [2, 2, 1, 1, 1], [5, 3, 1], [5, 2, 1, 1], [4, 3, 2], [4, 3, 1, 1], [4, 2, 2, 1], [4, 2, 1, 1, 1], [3, 3, 3], [3, 3, 2, 1], [3, 2, 2, 1, 1]]\n",
      "[[1], [3], [2, 1], [1, 1, 1], [4, 1], [3, 2], [3, 1, 1], [2, 2, 1], [2, 1, 1, 1], [1, 1, 1, 1, 1], [4, 3], [4, 2, 1], [3, 3, 1], [3, 2, 2], [3, 2, 1, 1], [2, 2, 2, 1], [4, 1, 1, 1], [3, 1, 1, 1, 1], [2, 2, 1, 1, 1], [2, 1, 1, 1, 1, 1], [4, 3, 2], [4, 3, 1, 1], [4, 2, 2, 1], [4, 2, 1, 1, 1], [3, 3, 3], [3, 3, 2, 1], [3, 3, 1, 1, 1], [3, 2, 2, 2], [3, 2, 2, 1, 1], [3, 2, 1, 1, 1, 1], [2, 2, 2, 2, 1], [2, 2, 2, 1, 1, 1]]\n"
     ]
    }
   ],
   "source": [
    "for i,l in enumerate(lams3):\n",
    "    print(NL(l, lams3C[i]))"
   ]
  },
  {
   "cell_type": "code",
   "execution_count": null,
   "metadata": {},
   "outputs": [],
   "source": []
  }
 ],
 "metadata": {
  "kernelspec": {
   "display_name": "SageMath 9.5",
   "language": "sage",
   "name": "sagemath-9.5"
  },
  "language_info": {
   "codemirror_mode": {
    "name": "ipython",
    "version": 3
   },
   "file_extension": ".py",
   "mimetype": "text/x-python",
   "name": "python",
   "nbconvert_exporter": "python",
   "pygments_lexer": "ipython3",
   "version": "3.9.9"
  }
 },
 "nbformat": 4,
 "nbformat_minor": 4
}
